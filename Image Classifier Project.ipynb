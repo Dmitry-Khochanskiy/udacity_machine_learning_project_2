{
 "cells": [
  {
   "cell_type": "markdown",
   "metadata": {
    "colab_type": "text",
    "id": "yCyAN46B8l5u"
   },
   "source": [
    "# Developing an AI application\n",
    "\n",
    "Going forward, AI algorithms will be incorporated into more and more everyday applications. For example, you might want to include an image classifier in a smart phone app. To do this, you'd use a deep learning model trained on hundreds of thousands of images as part of the overall application architecture. A large part of software development in the future will be using these types of models as common parts of applications. \n",
    "\n",
    "In this project, you'll train an image classifier to recognize different species of flowers. You can imagine using something like this in a phone app that tells you the name of the flower your camera is looking at. In practice you'd train this classifier, then export it for use in your application. We'll be using [this dataset](http://www.robots.ox.ac.uk/~vgg/data/flowers/102/index.html) of 102 flower categories, you can see a few examples below. \n",
    "\n",
    "<img src='assets/Flowers.png' width=500px>\n",
    "\n",
    "The project is broken down into multiple steps:\n",
    "\n",
    "* Load and preprocess the image dataset\n",
    "* Train the image classifier on your dataset\n",
    "* Use the trained classifier to predict image content\n",
    "\n",
    "We'll lead you through each part which you'll implement in Python.\n",
    "\n",
    "When you've completed this project, you'll have an application that can be trained on any set of labeled images. Here your network will be learning about flowers and end up as a command line application. But, what you do with your new skills depends on your imagination and effort in building a dataset. For example, imagine an app where you take a picture of a car, it tells you what the make and model is, then looks up information about it. Go build your own dataset and make something new.\n",
    "\n",
    "First up is importing the packages you'll need. It's good practice to keep all the imports at the beginning of your code. As you work through this notebook and find you need to import a package, make sure to add the import up here."
   ]
  },
  {
   "cell_type": "code",
   "execution_count": 1,
   "metadata": {
    "colab": {},
    "colab_type": "code",
    "id": "Wy7sVfJB8l5v"
   },
   "outputs": [],
   "source": [
    "# Imports here\n",
    "%matplotlib inline\n",
    "import numpy as np\n",
    "import matplotlib.pyplot as plt\n",
    "import torch, gc\n",
    "from torch import nn\n",
    "from torch import optim\n",
    "import torch.nn.functional as F\n",
    "from torchvision import datasets, transforms, models\n",
    "import time\n",
    "from PIL import Image\n",
    "import copy\n",
    "import workspace_utils\n",
    "from collections import OrderedDict"
   ]
  },
  {
   "cell_type": "code",
   "execution_count": 2,
   "metadata": {
    "colab": {
     "base_uri": "https://localhost:8080/",
     "height": 35
    },
    "colab_type": "code",
    "executionInfo": {
     "elapsed": 890,
     "status": "ok",
     "timestamp": 1590942333624,
     "user": {
      "displayName": "Dmitry Khochanskiy",
      "photoUrl": "",
      "userId": "10480473674897593903"
     },
     "user_tz": -180
    },
    "id": "sEMYOC2N8l5-",
    "outputId": "49783039-2bba-4f46-dedf-1cf73a3e3ff8"
   },
   "outputs": [
    {
     "name": "stdout",
     "output_type": "stream",
     "text": [
      "cuda\n"
     ]
    }
   ],
   "source": [
    "device = torch.device(\"cuda\" if torch.cuda.is_available() \n",
    "                                  else \"cpu\")\n",
    "print(device)\n"
   ]
  },
  {
   "cell_type": "markdown",
   "metadata": {
    "colab_type": "text",
    "id": "jhuthQw78l6D"
   },
   "source": [
    "## Load the data\n",
    "\n",
    "Here you'll use `torchvision` to load the data ([documentation](http://pytorch.org/docs/0.3.0/torchvision/index.html)). The data should be included alongside this notebook, otherwise you can [download it here](https://s3.amazonaws.com/content.udacity-data.com/nd089/flower_data.tar.gz). The dataset is split into three parts, training, validation, and testing. For the training, you'll want to apply transformations such as random scaling, cropping, and flipping. This will help the network generalize leading to better performance. You'll also need to make sure the input data is resized to 224x224 pixels as required by the pre-trained networks.\n",
    "\n",
    "The validation and testing sets are used to measure the model's performance on data it hasn't seen yet. For this you don't want any scaling or rotation transformations, but you'll need to resize then crop the images to the appropriate size.\n",
    "\n",
    "The pre-trained networks you'll use were trained on the ImageNet dataset where each color channel was normalized separately. For all three sets you'll need to normalize the means and standard deviations of the images to what the network expects. For the means, it's `[0.485, 0.456, 0.406]` and for the standard deviations `[0.229, 0.224, 0.225]`, calculated from the ImageNet images.  These values will shift each color channel to be centered at 0 and range from -1 to 1.\n",
    " "
   ]
  },
  {
   "cell_type": "code",
   "execution_count": 3,
   "metadata": {
    "colab": {},
    "colab_type": "code",
    "id": "TKvSoHru8l6D"
   },
   "outputs": [],
   "source": [
    "data_dir = 'flowers'\n",
    "train_dir = data_dir + '/train'\n",
    "valid_dir = data_dir + '/valid'\n",
    "test_dir = data_dir + '/test'"
   ]
  },
  {
   "cell_type": "code",
   "execution_count": 4,
   "metadata": {
    "colab": {},
    "colab_type": "code",
    "id": "O5WpBLys8l6H"
   },
   "outputs": [],
   "source": [
    "def dataloader(image_size = (64,64),\n",
    "               data_dir= \"\" , batch_size = 32):\n",
    "\n",
    "# TODO: Define your transforms for the training, validation, and testing sets\n",
    "\n",
    "    data_train_transforms = transforms.Compose([transforms.Resize(image_size),\n",
    "                                                transforms.RandomRotation(20),\n",
    "                                                transforms.RandomHorizontalFlip(),\n",
    "                                                transforms.RandomVerticalFlip(),\n",
    "                                                transforms.ToTensor(),\n",
    "                                                transforms.Normalize((0.485,0.456,0.406),(0.229,0.224,0.225))\n",
    "                                                ])\n",
    "\n",
    "\n",
    "    data_valid_transforms = transforms.Compose([transforms.Resize(image_size),\n",
    "                                                transforms.CenterCrop(image_size),\n",
    "                                                transforms.ToTensor(),\n",
    "                                                transforms.Normalize((0.485,0.456,0.406),(0.229,0.224,0.225))\n",
    "                                                ])\n",
    "\n",
    "# TODO: Load the datasets with ImageFolder\n",
    "    if data_dir == \"\":\n",
    "        data_dir = 'flowers'\n",
    "        train_dir = data_dir + '/train'\n",
    "        valid_dir = data_dir + '/valid'\n",
    "        test_dir = data_dir + '/test'\n",
    "   \n",
    "    image_datasets = {}\n",
    "    image_datasets['train'] = datasets.ImageFolder(train_dir, data_train_transforms)\n",
    "    image_datasets['valid'] = datasets.ImageFolder(valid_dir, data_valid_transforms)            \n",
    "    image_datasets['test'] = datasets.ImageFolder(test_dir, data_valid_transforms)\n",
    "   \n",
    "\n",
    "    # TODO: Using the image datasets and the trainforms, define the dataloaders\n",
    "\n",
    "    dataloaders = {}\n",
    "    dataloaders['train'] = torch.utils.data.DataLoader(image_datasets['train'], batch_size=batch_size, shuffle=True, num_workers = 0)\n",
    "    dataloaders['valid'] = torch.utils.data.DataLoader(image_datasets['valid'], batch_size=batch_size, shuffle=True,num_workers = 0)\n",
    "    dataloaders['test'] = torch.utils.data.DataLoader(image_datasets['test'], batch_size=batch_size, shuffle=False,num_workers = 0)\n",
    "    class_names = image_datasets['train'].classes\n",
    "    dataset_sizes = {x: len(image_datasets[x]) for x in ['train', 'valid', 'test']}\n",
    "    class_names = image_datasets['train'].classes\n",
    "    return dataloaders,class_names,dataset_sizes, image_datasets,batch_size,image_size\n"
   ]
  },
  {
   "cell_type": "code",
   "execution_count": 5,
   "metadata": {
    "colab": {},
    "colab_type": "code",
    "id": "oSXOz8wY8l6M"
   },
   "outputs": [],
   "source": [
    "dataloaders,class_names,dataset_sizes,image_datasets,batch_size,image_size = dataloader(image_size = (224,224))"
   ]
  },
  {
   "cell_type": "markdown",
   "metadata": {
    "colab_type": "text",
    "id": "yld6FqUf8l6W"
   },
   "source": [
    "### Label mapping\n",
    "\n",
    "You'll also need to load in a mapping from category label to category name. You can find this in the file `cat_to_name.json`. It's a JSON object which you can read in with the [`json` module](https://docs.python.org/2/library/json.html). This will give you a dictionary mapping the integer encoded categories to the actual names of the flowers."
   ]
  },
  {
   "cell_type": "code",
   "execution_count": 6,
   "metadata": {
    "colab": {},
    "colab_type": "code",
    "id": "jiulo1Zr8l6Y"
   },
   "outputs": [],
   "source": [
    "import json\n",
    "\n",
    "with open('cat_to_name.json', 'r') as f:\n",
    "    cat_to_name = json.load(f)"
   ]
  },
  {
   "cell_type": "markdown",
   "metadata": {
    "colab_type": "text",
    "id": "j7HhwjJi8l6x"
   },
   "source": [
    "# Building and training the classifier\n",
    "\n",
    "Now that the data is ready, it's time to build and train the classifier. As usual, you should use one of the pretrained models from `torchvision.models` to get the image features. Build and train a new feed-forward classifier using those features.\n",
    "\n",
    "We're going to leave this part up to you. Refer to [the rubric](https://review.udacity.com/#!/rubrics/1663/view) for guidance on successfully completing this section. Things you'll need to do:\n",
    "\n",
    "* Load a [pre-trained network](http://pytorch.org/docs/master/torchvision/models.html) (If you need a starting point, the VGG networks work great and are straightforward to use)\n",
    "* Define a new, untrained feed-forward network as a classifier, using ReLU activations and dropout\n",
    "* Train the classifier layers using backpropagation using the pre-trained network to get the features\n",
    "* Track the loss and accuracy on the validation set to determine the best hyperparameters\n",
    "\n",
    "We've left a cell open for you below, but use as many as you need. Our advice is to break the problem up into smaller parts you can run separately. Check that each part is doing what you expect, then move on to the next. You'll likely find that as you work through each part, you'll need to go back and modify your previous code. This is totally normal!\n",
    "\n",
    "When training make sure you're updating only the weights of the feed-forward network. You should be able to get the validation accuracy above 70% if you build everything right. Make sure to try different hyperparameters (learning rate, units in the classifier, epochs, etc) to find the best model. Save those hyperparameters to use as default values in the next part of the project.\n",
    "\n",
    "One last important tip if you're using the workspace to run your code: To avoid having your workspace disconnect during the long-running tasks in this notebook, please read in the earlier page in this lesson called Intro to\n",
    "GPU Workspaces about Keeping Your Session Active. You'll want to include code from the workspace_utils.py module.\n",
    "\n",
    "**Note for Workspace users:** If your network is over 1 GB when saved as a checkpoint, there might be issues with saving backups in your workspace. Typically this happens with wide dense layers after the convolutional layers. If your saved checkpoint is larger than 1 GB (you can open a terminal and check with `ls -lh`), you should reduce the size of your hidden layers and train again."
   ]
  },
  {
   "cell_type": "code",
   "execution_count": 7,
   "metadata": {},
   "outputs": [
    {
     "name": "stderr",
     "output_type": "stream",
     "text": [
      "Downloading: \"https://download.pytorch.org/models/vgg16-397923af.pth\" to /root/.torch/models/vgg16-397923af.pth\n",
      "100%|██████████| 553433881/553433881 [00:05<00:00, 99185340.84it/s] \n",
      "Downloading: \"https://download.pytorch.org/models/resnet18-5c106cde.pth\" to /root/.torch/models/resnet18-5c106cde.pth\n",
      "100%|██████████| 46827520/46827520 [00:00<00:00, 88315160.50it/s]\n",
      "/opt/conda/lib/python3.6/site-packages/torchvision-0.2.1-py3.6.egg/torchvision/models/densenet.py:212: UserWarning: nn.init.kaiming_normal is now deprecated in favor of nn.init.kaiming_normal_.\n",
      "Downloading: \"https://download.pytorch.org/models/densenet161-8d451a50.pth\" to /root/.torch/models/densenet161-8d451a50.pth\n",
      "100%|██████████| 115730790/115730790 [00:01<00:00, 86743731.66it/s]\n"
     ]
    }
   ],
   "source": [
    "model_list = [models.vgg16(pretrained=True), models.resnet18(pretrained=True),models.densenet161(pretrained=True)]"
   ]
  },
  {
   "cell_type": "code",
   "execution_count": 8,
   "metadata": {
    "colab": {},
    "colab_type": "code",
    "id": "qy06ASRS8l6y"
   },
   "outputs": [],
   "source": [
    "def classifier(model,classifier_parameters,dropout = 0.2):\n",
    "    \n",
    "    criterion = nn.NLLLoss()\n",
    "    for param in model.parameters():\n",
    "        param.requires_grad = False\n",
    "        \n",
    "    classifier = nn.Sequential(OrderedDict([\n",
    "                    ('fc1', nn.Linear(classifier_parameters[0], classifier_parameters[1])),\n",
    "                    ('relu', nn.ReLU()),\n",
    "                    ('drop_out', nn.Dropout(p=dropout)),\n",
    "                    ('fc2', nn.Linear(classifier_parameters[1], classifier_parameters[2])),\n",
    "                    ('relu', nn.ReLU()),\n",
    "                    ('drop_out', nn.Dropout(p=dropout)),\n",
    "                    ('fc3', nn.Linear(classifier_parameters[2], classifier_parameters[3])),\n",
    "                    ('output', nn.LogSoftmax(dim=1))]))\n",
    "\n",
    "   \n",
    "    for param in model.parameters():\n",
    "        param.requires_grad = False\n",
    "    model.classifier = classifier\n",
    "        \n",
    "    return model, criterion"
   ]
  },
  {
   "cell_type": "code",
   "execution_count": 9,
   "metadata": {},
   "outputs": [],
   "source": [
    "model,criterion = classifier(model_list[0], [25088, 4096, 512, 102], dropout = 0.1)\n",
    "\n",
    "optimizer = optim.Adam(model.classifier.parameters(), lr=0.01)"
   ]
  },
  {
   "cell_type": "code",
   "execution_count": 10,
   "metadata": {
    "colab": {},
    "colab_type": "code",
    "id": "TmpSH31t8l65"
   },
   "outputs": [],
   "source": [
    "def train_model(model, dataloaders, optimizer,criterion = nn.NLLLoss()\n",
    "                ,epochs=2, train_losses_history =[], eval_losses_history =[],val_acc_history = [], \n",
    "                epoch_counts = 0,stop_num = 10):\n",
    "    model.to(device)\n",
    "    start = time.time()\n",
    "    epoch_counts = 0\n",
    "    best_acc = 0\n",
    "    running_loss = 0\n",
    "    bad_acc_epoch = 0\n",
    "    \n",
    "    for epoch in range(epochs):  \n",
    "        if bad_acc_epoch < stop_num:\n",
    "        \n",
    "            epoch_counts += 1\n",
    "            valid_size = 0\n",
    "            train_size = 0\n",
    "            running_corrects = 0\n",
    "            train_epoch_loss = 0\n",
    "            valid_epoch_loss = 0\n",
    "            running_train_loss = 0\n",
    "            running_valid_loss = 0\n",
    "    \n",
    "            for phase in ['train', 'valid']:\n",
    "                for inputs, labels in dataloaders[phase]:\n",
    "                    inputs = inputs.to(device)\n",
    "                    labels = labels.to(device)\n",
    "                    if phase == 'train':\n",
    "                        model.train() \n",
    "                        # zero the parameter gradients\n",
    "                        optimizer.zero_grad()\n",
    "                        # forward\n",
    "                        with torch.set_grad_enabled(True) :\n",
    "                            outputs = model(inputs)\n",
    "                            _, preds = torch.max(outputs, 1)\n",
    "                            loss = criterion(outputs, labels)\n",
    "                            loss.backward()\n",
    "                            optimizer.step()\n",
    "                            train_size +=1\n",
    "                            running_train_loss += loss.item()\n",
    "                            #print(\"train\" + \" \" + str(loss.item()) +\" \" + str(running_train_loss)  )\n",
    "\n",
    "\n",
    "    # eval phase \n",
    "                    if phase == \"valid\":\n",
    "      \n",
    "                        model.eval()\n",
    "                        inputs = inputs.to(device)\n",
    "                        labels = labels.to(device)\n",
    "                # forward\n",
    "                        with torch.set_grad_enabled(False):\n",
    "                            outputs = model(inputs)\n",
    "                            _, preds = torch.max(outputs, 1)\n",
    "                            loss = criterion(outputs, labels)\n",
    "                            running_valid_loss += loss.item()\n",
    "                        valid_size +=1\n",
    "                        running_corrects += torch.sum(preds == labels.data)\n",
    "                        #print(\"valid\" + \" \" + str(loss.item()) +\" \" + str(running_valid_loss))\n",
    "                \n",
    "    # print epoch statistics\n",
    "    \n",
    "            train_epoch_loss = running_train_loss/len(dataloaders[\"train\"])\n",
    "            valid_epoch_loss = running_valid_loss/len(dataloaders[\"valid\"])\n",
    "            epoch_acc = running_corrects.double() / len(dataloaders[\"valid\"].dataset)\n",
    "    \n",
    "            print('Epoch : ',epoch+1, '\\t', 'train loss :', train_epoch_loss,'\\t', 'val loss :', valid_epoch_loss,\n",
    "          'val acc :', epoch_acc.item())\n",
    "     \n",
    "        # copy the best model\n",
    "            val_acc_history.append(epoch_acc)\n",
    "            if epoch_acc > best_acc:\n",
    "                best_acc = epoch_acc\n",
    "                best_model = copy.deepcopy(model.state_dict())\n",
    "                bad_acc_epoch = 0\n",
    "                best_train_losses_history = train_losses_history\n",
    "                best_eval_losses_history = eval_losses_history\n",
    "                best_epoch_counts = epoch_counts\n",
    "            else:\n",
    "                bad_acc_epoch +=1\n",
    "            \n",
    "            train_losses_history.append(train_epoch_loss)\n",
    "            eval_losses_history.append(valid_epoch_loss)\n",
    "            \n",
    "        else:\n",
    "            break        \n",
    "\n",
    "    # statistics\n",
    "    print('Finished Training')\n",
    "    model.load_state_dict(best_model)\n",
    "    time_elapsed = time.time() - start\n",
    "    print(\" Traning complete in {:.0f}m {:.0f}s\".format(time_elapsed//60, time_elapsed% 60))\n",
    "    print('Best val Acc: {:4f}'.format(best_acc))\n",
    "    return [model, best_train_losses_history, best_eval_losses_history, val_acc_history, best_epoch_counts]\n"
   ]
  },
  {
   "cell_type": "markdown",
   "metadata": {},
   "source": [
    "My code here is grossly overbloated - I've implemented train and valid phases separetly to get the understanding. Probably will refactor later, when it is working right."
   ]
  },
  {
   "cell_type": "code",
   "execution_count": 11,
   "metadata": {
    "colab": {
     "base_uri": "https://localhost:8080/",
     "height": 366
    },
    "colab_type": "code",
    "executionInfo": {
     "elapsed": 14304,
     "status": "error",
     "timestamp": 1590942366015,
     "user": {
      "displayName": "Dmitry Khochanskiy",
      "photoUrl": "",
      "userId": "10480473674897593903"
     },
     "user_tz": -180
    },
    "id": "mH_Svq9T8l68",
    "outputId": "fb71c188-a6f6-491b-9807-45fec7187d58"
   },
   "outputs": [
    {
     "name": "stdout",
     "output_type": "stream",
     "text": [
      "Epoch :  1 \t train loss : 20.018698434131903 \t val loss : 4.651275689785297 val acc : 0.029339853300733496\n",
      "Epoch :  2 \t train loss : 6.208353768325433 \t val loss : 7.193130034666795 val acc : 0.029339853300733496\n",
      "Epoch :  3 \t train loss : 6.928147941682397 \t val loss : 4.568521994810838 val acc : 0.034229828850855744\n",
      "Epoch :  4 \t train loss : 6.4884230264803255 \t val loss : 4.8085605547978325 val acc : 0.035452322738386305\n",
      "Epoch :  5 \t train loss : 7.845842361450195 \t val loss : 4.63028909609868 val acc : 0.02567237163814181\n",
      "Epoch :  6 \t train loss : 8.95991378877221 \t val loss : 4.668563732734094 val acc : 0.034229828850855744\n",
      "Epoch :  7 \t train loss : 9.275735345700893 \t val loss : 4.652845822847807 val acc : 0.02567237163814181\n",
      "Epoch :  8 \t train loss : 4.5624606900098845 \t val loss : 4.640400483058049 val acc : 0.02567237163814181\n",
      "Epoch :  9 \t train loss : 5.411109640540146 \t val loss : 4.724881722376897 val acc : 0.034229828850855744\n",
      "Epoch :  10 \t train loss : 11.921900670121357 \t val loss : 4.528802651625413 val acc : 0.014669926650366748\n",
      "Epoch :  11 \t train loss : 4.898545730404738 \t val loss : 4.505491403432993 val acc : 0.02567237163814181\n",
      "Epoch :  12 \t train loss : 18.229060426572474 \t val loss : 4.532530491168682 val acc : 0.019559902200488997\n",
      "Epoch :  13 \t train loss : 7.201985780204215 \t val loss : 4.530374343578632 val acc : 0.019559902200488997\n",
      "Epoch :  14 \t train loss : 4.869785801957293 \t val loss : 4.555548429489136 val acc : 0.02567237163814181\n",
      "Finished Training\n",
      " Traning complete in 43m 54s\n",
      "Best val Acc: 0.035452\n"
     ]
    }
   ],
   "source": [
    "from workspace_utils import active_session\n",
    "\n",
    "with active_session():\n",
    "    # do long-running work here\n",
    "    model, train_losses_history, eval_losses_history, val_acc_history, epoch_counts = train_model(model,dataloaders,optimizer, criterion,epochs=1000)"
   ]
  },
  {
   "cell_type": "code",
   "execution_count": 12,
   "metadata": {
    "colab": {},
    "colab_type": "code",
    "id": "bpj5rDX38l7D"
   },
   "outputs": [
    {
     "data": {
      "image/png": "[encoded data removed]",
      "text/plain": [
       "<matplotlib.figure.Figure at 0x7f1c50269240>"
      ]
     },
     "metadata": {
      "needs_background": "light"
     },
     "output_type": "display_data"
    }
   ],
   "source": [
    "plt.plot(train_losses_history, label='Training loss')\n",
    "plt.plot(eval_losses_history, label='Validation loss')\n",
    "plt.legend(frameon=False)\n",
    "plt.show()"
   ]
  },
  {
   "cell_type": "code",
   "execution_count": 13,
   "metadata": {
    "colab": {},
    "colab_type": "code",
    "id": "TzpZfVpm8l7O"
   },
   "outputs": [
    {
     "data": {
      "image/png": "[encoded data removed]",
      "text/plain": [
       "<matplotlib.figure.Figure at 0x7f1c50269fd0>"
      ]
     },
     "metadata": {
      "needs_background": "light"
     },
     "output_type": "display_data"
    }
   ],
   "source": [
    "plt.plot(val_acc_history, label='Validation accuracy')\n",
    "plt.legend(frameon=False)\n",
    "plt.show()"
   ]
  },
  {
   "cell_type": "markdown",
   "metadata": {
    "colab_type": "text",
    "id": "oQD3svfn8l7S"
   },
   "source": [
    "## Testing your network\n",
    "\n",
    "It's good practice to test your trained network on test data, images the network has never seen either in training or validation. This will give you a good estimate for the model's performance on completely new images. Run the test images through the network and measure the accuracy, the same way you did validation. You should be able to reach around 70% accuracy on the test set if the model has been trained well."
   ]
  },
  {
   "cell_type": "code",
   "execution_count": 18,
   "metadata": {
    "colab": {},
    "colab_type": "code",
    "id": "qYfN5lmJ8l7T"
   },
   "outputs": [],
   "source": [
    "def testing_model(test_loader, model):\n",
    "    model.to(device)\n",
    "    total = 0\n",
    "    correct = 0\n",
    "    with torch.no_grad():\n",
    "        for batch in test_loader:\n",
    "            \n",
    "            inputs, expected_labels = batch\n",
    "            inputs, expected_labels = inputs.to(device), expected_labels.to(device)\n",
    "            outputs =  model(inputs)\n",
    "\n",
    "            predicted_labels = torch.argmax(outputs, dim=1)\n",
    "            total += expected_labels.size(0)\n",
    "\n",
    "            correct += (predicted_labels == expected_labels).sum().item()\n",
    "    \n",
    "    model_accuracy = 100 * correct / total\n",
    "    return model_accuracy\n",
    "\n"
   ]
  },
  {
   "cell_type": "code",
   "execution_count": 19,
   "metadata": {},
   "outputs": [
    {
     "name": "stdout",
     "output_type": "stream",
     "text": [
      "Test acc:  3.2 %\n"
     ]
    }
   ],
   "source": [
    "test_accuracy = testing_model(dataloaders[\"test\"], model)\n",
    "print('Test acc:  %.1f %%' % test_accuracy)\n"
   ]
  },
  {
   "cell_type": "markdown",
   "metadata": {
    "colab_type": "text",
    "id": "KwdbkbAm8l7W"
   },
   "source": [
    "## Save the checkpoint\n",
    "\n",
    "Now that your network is trained, save the model so you can load it later for making predictions. You probably want to save other things such as the mapping of classes to indices which you get from one of the image datasets: `image_datasets['train'].class_to_idx`. You can attach this to the model as an attribute which makes inference easier later on.\n",
    "\n",
    "```model.class_to_idx = image_datasets['train'].class_to_idx```\n",
    "\n",
    "Remember that you'll want to completely rebuild the model later so you can use it for inference. Make sure to include any information you need in the checkpoint. If you want to load the model and keep training, you'll want to save the number of epochs as well as the optimizer state, `optimizer.state_dict`. You'll likely want to use this trained model in the next part of the project, so best to save it now."
   ]
  },
  {
   "cell_type": "code",
   "execution_count": 20,
   "metadata": {
    "colab": {},
    "colab_type": "code",
    "id": "iCQUcSgT8l7W"
   },
   "outputs": [],
   "source": [
    "# saving the model\n",
    "model.class_to_idx = image_datasets['train'].class_to_idx\n",
    "checkpoint = {'output_size': 102,\n",
    "              'epochs': epoch_counts,\n",
    "              'batch_size': batch_size,\n",
    "              'model': model,\n",
    "              'optimizer': optimizer.state_dict(),\n",
    "              'state_dict': model.state_dict(),\n",
    "              'class_to_idx': model.class_to_idx,\n",
    "              'criterion':criterion,\n",
    "              'history':[train_losses_history, eval_losses_history, val_acc_history]\n",
    "             }\n",
    "   \n",
    "torch.save(checkpoint, 'checkpoint.pth')"
   ]
  },
  {
   "cell_type": "code",
   "execution_count": null,
   "metadata": {},
   "outputs": [],
   "source": []
  }
 ],
 "metadata": {
  "accelerator": "GPU",
  "colab": {
   "collapsed_sections": [],
   "name": "Image Classifier Project.ipynb",
   "provenance": [],
   "toc_visible": true
  },
  "kernelspec": {
   "display_name": "Python 3",
   "language": "python",
   "name": "python3"
  },
  "language_info": {
   "codemirror_mode": {
    "name": "ipython",
    "version": 3
   },
   "file_extension": ".py",
   "mimetype": "text/x-python",
   "name": "python",
   "nbconvert_exporter": "python",
   "pygments_lexer": "ipython3",
   "version": "3.6.3"
  }
 },
 "nbformat": 4,
 "nbformat_minor": 1
}
